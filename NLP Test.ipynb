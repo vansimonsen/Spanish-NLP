{
 "cells": [
  {
   "cell_type": "code",
   "execution_count": 1,
   "metadata": {
    "collapsed": false
   },
   "outputs": [],
   "source": [
    "import json\n",
    "import unicodedata\n",
    "import re\n",
    "import pandas as pd\n",
    "pd.set_option('max_colwidth',1000)\n",
    "from lxml import objectify\n",
    "import numpy as np\n",
    "\n",
    "\n",
    "\n",
    "from string import punctuation\n",
    "import nltk\n",
    "from nltk.corpus import stopwords\n",
    "from nltk import word_tokenize\n",
    "from nltk.stem import SnowballStemmer\n",
    "\n",
    "from string import punctuation\n",
    "\n",
    "from sklearn.grid_search import GridSearchCV\n",
    "from sklearn.cross_validation import cross_val_score\n",
    "from sklearn.svm import LinearSVC\n",
    "from sklearn.pipeline import Pipeline\n",
    "from sklearn.feature_extraction.text import CountVectorizer      \n",
    "\n",
    "\n",
    "#Required packages from nltk\n",
    "#nltk.download('punkt')\n",
    "#nltk.download('stopwords')"
   ]
  },
  {
   "cell_type": "markdown",
   "metadata": {},
   "source": [
    "## Load CSV file or create from XML"
   ]
  },
  {
   "cell_type": "code",
   "execution_count": 2,
   "metadata": {
    "collapsed": false
   },
   "outputs": [],
   "source": [
    "try:\n",
    "    general_tweets_corpus_train = pd.read_csv('datasets/csv/general-tweets-train-tagged.csv', encoding='utf-8')\n",
    "except:\n",
    "    xml = objectify.parse(open('datasets/xml/general-tweets-train-tagged.xml'))\n",
    "    #sample tweet object\n",
    "    root = xml.getroot()\n",
    "    general_tweets_corpus_train = pd.DataFrame(columns=('content', 'polarity', 'agreement'))\n",
    "    tweets = root.getchildren()\n",
    "    for i in range(0,len(tweets)):\n",
    "        tweet = tweets[i]\n",
    "        row = dict(zip(['content', 'polarity', 'agreement'], \n",
    "                       [tweet.content.text, tweet.sentiments.polarity.value.text, \n",
    "                        tweet.sentiments.polarity.type.text]))\n",
    "        row_s = pd.Series(row)\n",
    "        row_s.name = i\n",
    "        general_tweets_corpus_train = general_tweets_corpus_train.append(row_s)\n",
    "    general_tweets_corpus_train.to_csv('datasets/csv/general-tweets-train-tagged.csv', index=False, encoding='utf-8')"
   ]
  },
  {
   "cell_type": "code",
   "execution_count": 3,
   "metadata": {
    "collapsed": false
   },
   "outputs": [
    {
     "data": {
      "text/html": [
       "<div>\n",
       "<table border=\"1\" class=\"dataframe\">\n",
       "  <thead>\n",
       "    <tr style=\"text-align: right;\">\n",
       "      <th></th>\n",
       "      <th>content</th>\n",
       "      <th>polarity</th>\n",
       "      <th>agreement</th>\n",
       "    </tr>\n",
       "  </thead>\n",
       "  <tbody>\n",
       "    <tr>\n",
       "      <th>4091</th>\n",
       "      <td>No estoy a favor de primarias. La enmienda de Henríquez es a título personal. Ya lo dijo él y así lo he dicho hoy a preguntas de periodistas</td>\n",
       "      <td>NEU</td>\n",
       "      <td>AGREEMENT</td>\n",
       "    </tr>\n",
       "    <tr>\n",
       "      <th>2130</th>\n",
       "      <td>El Gobierno no ampliará el plazo para que sindicatos y empresarios lleguen a un acuerdo</td>\n",
       "      <td>N</td>\n",
       "      <td>AGREEMENT</td>\n",
       "    </tr>\n",
       "    <tr>\n",
       "      <th>4013</th>\n",
       "      <td>Diego Torres se niega a declarar por el caso Noos.Puede decir: Señoría Vd no me ha protegido mi derecho al honor,no ha guardado el sumario!</td>\n",
       "      <td>N</td>\n",
       "      <td>AGREEMENT</td>\n",
       "    </tr>\n",
       "    <tr>\n",
       "      <th>7117</th>\n",
       "      <td>A los q nos han llevado a una situación en la q se hace insostenible el Estado de Bienestar solo se les ocurre criticar sin dar soluciones?</td>\n",
       "      <td>N</td>\n",
       "      <td>AGREEMENT</td>\n",
       "    </tr>\n",
       "    <tr>\n",
       "      <th>1162</th>\n",
       "      <td>Que grande.. Ahora me volvia 20 años atras.. :P http://t.co/Z5koQuSV</td>\n",
       "      <td>P</td>\n",
       "      <td>AGREEMENT</td>\n",
       "    </tr>\n",
       "  </tbody>\n",
       "</table>\n",
       "</div>"
      ],
      "text/plain": [
       "                                                                                                                                           content  \\\n",
       "4091  No estoy a favor de primarias. La enmienda de Henríquez es a título personal. Ya lo dijo él y así lo he dicho hoy a preguntas de periodistas   \n",
       "2130                                                       El Gobierno no ampliará el plazo para que sindicatos y empresarios lleguen a un acuerdo   \n",
       "4013   Diego Torres se niega a declarar por el caso Noos.Puede decir: Señoría Vd no me ha protegido mi derecho al honor,no ha guardado el sumario!   \n",
       "7117   A los q nos han llevado a una situación en la q se hace insostenible el Estado de Bienestar solo se les ocurre criticar sin dar soluciones?   \n",
       "1162                                                                          Que grande.. Ahora me volvia 20 años atras.. :P http://t.co/Z5koQuSV   \n",
       "\n",
       "     polarity  agreement  \n",
       "4091      NEU  AGREEMENT  \n",
       "2130        N  AGREEMENT  \n",
       "4013        N  AGREEMENT  \n",
       "7117        N  AGREEMENT  \n",
       "1162        P  AGREEMENT  "
      ]
     },
     "execution_count": 3,
     "metadata": {},
     "output_type": "execute_result"
    }
   ],
   "source": [
    "tweets_corpus = pd.concat([general_tweets_corpus_train])\n",
    "tweets_corpus = tweets_corpus.query('agreement != \"DISAGREEMENT\" and polarity != \"NONE\"')\n",
    "tweets_corpus = tweets_corpus[-tweets_corpus.content.str.contains('^http.*$')]\n",
    "tweets_corpus.sample(5)"
   ]
  },
  {
   "cell_type": "code",
   "execution_count": 4,
   "metadata": {
    "collapsed": false
   },
   "outputs": [],
   "source": [
    "try:\n",
    "    general_tweets_corpus_test = pd.read_csv('datasets/csv/general-tweets-test1k.csv')#, encoding='utf-8')\n",
    "except:\n",
    "    xml = objectify.parse(open('datasets/xml/general-tweets-test1k.xml'))\n",
    "    #sample tweet object\n",
    "    root = xml.getroot()\n",
    "    general_tweets_corpus_test = pd.DataFrame(columns=('content', 'polarity'))\n",
    "    tweets = root.getchildren()\n",
    "    for i in range(0,len(tweets)):\n",
    "        tweet = tweets[i]\n",
    "        row = dict(zip(['content'], [tweet.content.text]))\n",
    "        row_s = pd.Series(row)\n",
    "        row_s.name = i\n",
    "        general_tweets_corpus_test = general_tweets_corpus_test.append(row_s)\n",
    "    general_tweets_corpus_test.to_csv('datasets/csv/general-tweets-test1k.csv', index=False)#, encoding='utf-8')\n"
   ]
  },
  {
   "cell_type": "code",
   "execution_count": 5,
   "metadata": {
    "collapsed": false
   },
   "outputs": [
    {
     "data": {
      "text/html": [
       "<div>\n",
       "<table border=\"1\" class=\"dataframe\">\n",
       "  <thead>\n",
       "    <tr style=\"text-align: right;\">\n",
       "      <th></th>\n",
       "      <th>content</th>\n",
       "      <th>polarity</th>\n",
       "    </tr>\n",
       "  </thead>\n",
       "  <tbody>\n",
       "    <tr>\n",
       "      <th>8</th>\n",
       "      <td>Por cierto muy recomendable en Madrid la exposición de Yves Saint Laurent http://t.co/j1PIiLis</td>\n",
       "      <td>NaN</td>\n",
       "    </tr>\n",
       "    <tr>\n",
       "      <th>400</th>\n",
       "      <td>En 2012, habrá 200 millones d parados en el mundo, 27 millones se pueden achacar directamente a crisis, datos Org. Internacional del Trabajo</td>\n",
       "      <td>NaN</td>\n",
       "    </tr>\n",
       "    <tr>\n",
       "      <th>860</th>\n",
       "      <td>El Prado de #Málaga es «imparable». @eliasbendodo @javierarenas_pp @jiwert  http://t.co/g0eJ5HQK</td>\n",
       "      <td>NaN</td>\n",
       "    </tr>\n",
       "    <tr>\n",
       "      <th>595</th>\n",
       "      <td>Voy a comer... Hasta luego!!!</td>\n",
       "      <td>NaN</td>\n",
       "    </tr>\n",
       "    <tr>\n",
       "      <th>548</th>\n",
       "      <td>El miedito se llama despido procedente x causas objetivas: 20 días si la empresa tiene pérdida d intresos o ventas 3 trim. consecutivos.</td>\n",
       "      <td>NaN</td>\n",
       "    </tr>\n",
       "  </tbody>\n",
       "</table>\n",
       "</div>"
      ],
      "text/plain": [
       "                                                                                                                                          content  \\\n",
       "8                                                  Por cierto muy recomendable en Madrid la exposición de Yves Saint Laurent http://t.co/j1PIiLis   \n",
       "400  En 2012, habrá 200 millones d parados en el mundo, 27 millones se pueden achacar directamente a crisis, datos Org. Internacional del Trabajo   \n",
       "860                                              El Prado de #Málaga es «imparable». @eliasbendodo @javierarenas_pp @jiwert  http://t.co/g0eJ5HQK   \n",
       "595                                                                                                                 Voy a comer... Hasta luego!!!   \n",
       "548      El miedito se llama despido procedente x causas objetivas: 20 días si la empresa tiene pérdida d intresos o ventas 3 trim. consecutivos.   \n",
       "\n",
       "     polarity  \n",
       "8         NaN  \n",
       "400       NaN  \n",
       "860       NaN  \n",
       "595       NaN  \n",
       "548       NaN  "
      ]
     },
     "execution_count": 5,
     "metadata": {},
     "output_type": "execute_result"
    }
   ],
   "source": [
    "tweets_test = pd.concat([general_tweets_corpus_test])\n",
    "\n",
    "tweets_test.sample(5)"
   ]
  },
  {
   "cell_type": "code",
   "execution_count": 6,
   "metadata": {
    "collapsed": false
   },
   "outputs": [],
   "source": [
    "try:\n",
    "    tagged_tweets_corpus_test = pd.read_csv('datasets/csv/general-tweets-test1k-tagged.csv', encoding='utf-8')\n",
    "except:\n",
    "\n",
    "    from lxml import objectify\n",
    "    xml = objectify.parse(open('datasets/xml/general-tweets-test1k-tagged.xml'))\n",
    "    #sample tweet object\n",
    "    root = xml.getroot()\n",
    "    tagged_tweets_corpus_test = pd.DataFrame(columns=('content', 'polarity'))\n",
    "    tweets = root.getchildren()\n",
    "    for i in range(0,len(tweets)):\n",
    "        tweet = tweets[i]\n",
    "        row = dict(zip(['content', 'polarity', 'agreement'], [tweet.content.text, tweet.sentiments.polarity.value.text]))\n",
    "        row_s = pd.Series(row)\n",
    "        row_s.name = i\n",
    "        tagged_tweets_corpus_test = tagged_tweets_corpus_test.append(row_s)\n",
    "    tagged_tweets_corpus_test.to_csv('datasets/csv/general-tweets-test1k-tagged.csv', index=False, encoding='utf-8')"
   ]
  },
  {
   "cell_type": "code",
   "execution_count": 7,
   "metadata": {
    "collapsed": false
   },
   "outputs": [
    {
     "data": {
      "text/html": [
       "<div>\n",
       "<table border=\"1\" class=\"dataframe\">\n",
       "  <thead>\n",
       "    <tr style=\"text-align: right;\">\n",
       "      <th></th>\n",
       "      <th>content</th>\n",
       "      <th>polarity</th>\n",
       "    </tr>\n",
       "  </thead>\n",
       "  <tbody>\n",
       "    <tr>\n",
       "      <th>751</th>\n",
       "      <td>El acuerdo de recorte de derechos laborales aprobada por PP, CIU, UPN y FAC, es un ataque brutal que debe tener justa respuesta global.</td>\n",
       "      <td>N</td>\n",
       "    </tr>\n",
       "    <tr>\n",
       "      <th>997</th>\n",
       "      <td>@carlos__alsina la oferta se mantiene para cualquier día y en 140 caracteres no es fácil pero intento en el siguiente.</td>\n",
       "      <td>N</td>\n",
       "    </tr>\n",
       "    <tr>\n",
       "      <th>985</th>\n",
       "      <td>@PabloAIglesias un abrazo fuerte. Te lo doy pronto en persona.</td>\n",
       "      <td>P+</td>\n",
       "    </tr>\n",
       "    <tr>\n",
       "      <th>32</th>\n",
       "      <td>#Rajoy recibe con rostro serio y circunspecto las palabras de saludo y deseos de éxito en su gestión de Jose Bono.</td>\n",
       "      <td>P+</td>\n",
       "    </tr>\n",
       "    <tr>\n",
       "      <th>594</th>\n",
       "      <td>\"Sólo avanzada ya mi vida me di cuenta de cuán fácil es decir: no lo sé\" William Somerset Maugham</td>\n",
       "      <td>P+</td>\n",
       "    </tr>\n",
       "  </tbody>\n",
       "</table>\n",
       "</div>"
      ],
      "text/plain": [
       "                                                                                                                                     content  \\\n",
       "751  El acuerdo de recorte de derechos laborales aprobada por PP, CIU, UPN y FAC, es un ataque brutal que debe tener justa respuesta global.   \n",
       "997                   @carlos__alsina la oferta se mantiene para cualquier día y en 140 caracteres no es fácil pero intento en el siguiente.   \n",
       "985                                                                           @PabloAIglesias un abrazo fuerte. Te lo doy pronto en persona.   \n",
       "32                        #Rajoy recibe con rostro serio y circunspecto las palabras de saludo y deseos de éxito en su gestión de Jose Bono.   \n",
       "594                                        \"Sólo avanzada ya mi vida me di cuenta de cuán fácil es decir: no lo sé\" William Somerset Maugham   \n",
       "\n",
       "    polarity  \n",
       "751        N  \n",
       "997        N  \n",
       "985       P+  \n",
       "32        P+  \n",
       "594       P+  "
      ]
     },
     "execution_count": 7,
     "metadata": {},
     "output_type": "execute_result"
    }
   ],
   "source": [
    "tweets_tagged = pd.concat([tagged_tweets_corpus_test])\n",
    "tweets_tagged = tweets_tagged.query('polarity != \"NONE\"')\n",
    "diff = np.setdiff1d(tweets_test.index.values, tweets_tagged.index.values)\n",
    "\n",
    "tweets_test = tweets_test.drop(diff)\n",
    "tweets_tagged.sample(5)\n"
   ]
  },
  {
   "cell_type": "markdown",
   "metadata": {},
   "source": [
    "## Tokenize and Stems Sentences "
   ]
  },
  {
   "cell_type": "code",
   "execution_count": 8,
   "metadata": {
    "collapsed": true
   },
   "outputs": [],
   "source": [
    "#Stem: Cut word in root (wait: wait, waited: wait, waiting: wait)\n",
    "def stem_tokens(tokens, stemmer):\n",
    "    stemmed = []\n",
    "    for item in tokens:\n",
    "        stemmed.append(stemmer.stem(item))\n",
    "    return stemmed\n",
    "\n",
    "#Each word is a token\n",
    "def tokenize(text):\n",
    "    text = ''.join([c for c in text if c not in non_words])\n",
    "    tokens =  word_tokenize(text)\n",
    "\n",
    "    # stem\n",
    "    try:\n",
    "        stems = stem_tokens(tokens, stemmer)\n",
    "    except Exception as e:\n",
    "        print(e)\n",
    "        print(text)\n",
    "        stems = ['']\n",
    "    return stems"
   ]
  },
  {
   "cell_type": "code",
   "execution_count": 9,
   "metadata": {
    "collapsed": false
   },
   "outputs": [],
   "source": [
    "#Stopwords: Empty word (i.e articles)\n",
    "\n",
    "spanish_stopwords = stopwords.words('spanish')\n",
    "stemmer = SnowballStemmer('spanish')\n",
    "\n",
    "\n",
    "#Non Words: Symbols and Numbers\n",
    "non_words = list(punctuation)\n",
    "non_words.extend(['¿', '¡'])\n",
    "non_words.extend(map(str,range(10)))\n"
   ]
  },
  {
   "cell_type": "markdown",
   "metadata": {},
   "source": [
    "## Creating Model (Linear SVM) and Training"
   ]
  },
  {
   "cell_type": "code",
   "execution_count": 10,
   "metadata": {
    "collapsed": false
   },
   "outputs": [
    {
     "name": "stdout",
     "output_type": "stream",
     "text": [
      "1    0.53994\n",
      "0    0.46006\n",
      "Name: polarity_bin, dtype: float64\n"
     ]
    },
    {
     "name": "stderr",
     "output_type": "stream",
     "text": [
      "/usr/lib/python2.7/dist-packages/pandas/core/indexing.py:117: SettingWithCopyWarning: \n",
      "A value is trying to be set on a copy of a slice from a DataFrame\n",
      "\n",
      "See the caveats in the documentation: http://pandas.pydata.org/pandas-docs/stable/indexing.html#indexing-view-versus-copy\n",
      "  self._setitem_with_indexer(indexer, value)\n"
     ]
    },
    {
     "data": {
      "text/html": [
       "<div>\n",
       "<table border=\"1\" class=\"dataframe\">\n",
       "  <thead>\n",
       "    <tr style=\"text-align: right;\">\n",
       "      <th></th>\n",
       "      <th>content</th>\n",
       "      <th>polarity</th>\n",
       "      <th>agreement</th>\n",
       "      <th>polarity_bin</th>\n",
       "    </tr>\n",
       "  </thead>\n",
       "  <tbody>\n",
       "    <tr>\n",
       "      <th>5260</th>\n",
       "      <td>Estoy con un Citadelle Reserve (el Rolls Royce de los gin tonics) a la salud de los miles que habéis mandado hoy tuits de todo tipo. Gcs.</td>\n",
       "      <td>P</td>\n",
       "      <td>AGREEMENT</td>\n",
       "      <td>1</td>\n",
       "    </tr>\n",
       "    <tr>\n",
       "      <th>3204</th>\n",
       "      <td>Peque ya en el cole y a empezar ;-)) (@ Pinosol) http://t.co/N56vd1vp</td>\n",
       "      <td>P+</td>\n",
       "      <td>AGREEMENT</td>\n",
       "      <td>1</td>\n",
       "    </tr>\n",
       "    <tr>\n",
       "      <th>1049</th>\n",
       "      <td>Alfonso Alonso reprocha a antigüedad que no haya condenado a ETA desde la tribuna del parlamento. \"Debemos ser especialmente exigentes\".</td>\n",
       "      <td>N</td>\n",
       "      <td>AGREEMENT</td>\n",
       "      <td>0</td>\n",
       "    </tr>\n",
       "  </tbody>\n",
       "</table>\n",
       "</div>"
      ],
      "text/plain": [
       "                                                                                                                                        content  \\\n",
       "5260  Estoy con un Citadelle Reserve (el Rolls Royce de los gin tonics) a la salud de los miles que habéis mandado hoy tuits de todo tipo. Gcs.   \n",
       "3204                                                                      Peque ya en el cole y a empezar ;-)) (@ Pinosol) http://t.co/N56vd1vp   \n",
       "1049   Alfonso Alonso reprocha a antigüedad que no haya condenado a ETA desde la tribuna del parlamento. \"Debemos ser especialmente exigentes\".   \n",
       "\n",
       "     polarity  agreement  polarity_bin  \n",
       "5260        P  AGREEMENT             1  \n",
       "3204       P+  AGREEMENT             1  \n",
       "1049        N  AGREEMENT             0  "
      ]
     },
     "execution_count": 10,
     "metadata": {},
     "output_type": "execute_result"
    }
   ],
   "source": [
    "#Binarizing\n",
    "\n",
    "tweets_corpus['polarity_bin'] = 0\n",
    "index = tweets_corpus.polarity.isin(['P', 'P+'])\n",
    "tweets_corpus.polarity_bin.loc[index] = 1\n",
    "print tweets_corpus.polarity_bin.value_counts(normalize=True)\n",
    "\n",
    "tweets_test['polarity_bin'] = 0\n",
    "\n",
    "tweets_tagged['polarity_bin'] = 0\n",
    "index = tweets_tagged.polarity.isin(['P', 'P+'])\n",
    "tweets_tagged.polarity_bin.loc[index] = 1\n",
    "tweets_tagged.polarity_bin.value_counts(normalize=True)\n",
    "\n",
    "y = tweets_tagged.polarity_bin.values\n",
    "\n",
    "tweets_corpus.sample(3)"
   ]
  },
  {
   "cell_type": "markdown",
   "metadata": {},
   "source": [
    "# Find Parameters"
   ]
  },
  {
   "cell_type": "code",
   "execution_count": null,
   "metadata": {
    "collapsed": true
   },
   "outputs": [
    {
     "name": "stderr",
     "output_type": "stream",
     "text": [
      "/usr/local/lib/python2.7/dist-packages/ipykernel/__main__.py:10: UnicodeWarning: Unicode equal comparison failed to convert both arguments to Unicode - interpreting them as being unequal\n",
      "/usr/local/lib/python2.7/dist-packages/ipykernel/__main__.py:10: UnicodeWarning: Unicode equal comparison failed to convert both arguments to Unicode - interpreting them as being unequal\n",
      "/usr/local/lib/python2.7/dist-packages/ipykernel/__main__.py:10: UnicodeWarning: Unicode equal comparison failed to convert both arguments to Unicode - interpreting them as being unequal\n",
      "/usr/local/lib/python2.7/dist-packages/ipykernel/__main__.py:10: UnicodeWarning: Unicode equal comparison failed to convert both arguments to Unicode - interpreting them as being unequal\n",
      "/usr/local/lib/python2.7/dist-packages/ipykernel/__main__.py:10: UnicodeWarning: Unicode equal comparison failed to convert both arguments to Unicode - interpreting them as being unequal\n",
      "/usr/local/lib/python2.7/dist-packages/ipykernel/__main__.py:10: UnicodeWarning: Unicode equal comparison failed to convert both arguments to Unicode - interpreting them as being unequal\n",
      "/usr/local/lib/python2.7/dist-packages/ipykernel/__main__.py:10: UnicodeWarning: Unicode equal comparison failed to convert both arguments to Unicode - interpreting them as being unequal\n",
      "/usr/local/lib/python2.7/dist-packages/ipykernel/__main__.py:10: UnicodeWarning: Unicode equal comparison failed to convert both arguments to Unicode - interpreting them as being unequal\n"
     ]
    }
   ],
   "source": [
    "vectorizer = CountVectorizer(\n",
    "                analyzer = 'word',\n",
    "                tokenizer = tokenize,\n",
    "                lowercase = True,\n",
    "                stop_words = spanish_stopwords)\n",
    "\n",
    "pipeline = Pipeline([\n",
    "    ('vect', vectorizer),\n",
    "    ('cls', LinearSVC()),\n",
    "])\n",
    "\n",
    "\n",
    "\n",
    "parameters = {\n",
    "    'vect__max_df': (0.5, 1.9),\n",
    "    'vect__min_df': (10, 20,50),\n",
    "    'vect__max_features': (500, 1000),\n",
    "    'vect__ngram_range': ((1, 1), (1, 2)),  # unigrams or bigrams\n",
    "    'cls__C': (0.2, 0.5, 0.7),\n",
    "    'cls__loss': ('hinge', 'squared_hinge'),\n",
    "    'cls__max_iter': (500, 1000)\n",
    "}\n",
    "\n",
    "\n",
    "grid_search = GridSearchCV(pipeline, parameters, n_jobs=-1 , scoring='roc_auc')\n",
    "grid_search.fit(tweets_corpus.content, tweets_corpus.polarity_bin)"
   ]
  },
  {
   "cell_type": "code",
   "execution_count": 11,
   "metadata": {
    "collapsed": false
   },
   "outputs": [
    {
     "name": "stderr",
     "output_type": "stream",
     "text": [
      "/usr/local/lib/python2.7/dist-packages/ipykernel/__main__.py:10: UnicodeWarning: Unicode equal comparison failed to convert both arguments to Unicode - interpreting them as being unequal\n"
     ]
    }
   ],
   "source": [
    "best_params = {'vect__ngram_range': (1, 2), 'cls__loss': 'hinge', 'vect__max_df': 0.5\n",
    " , 'cls__max_iter': 1000, 'vect__min_df': 10, 'vect__max_features': 1000\n",
    " , 'cls__C': 0.2}\n",
    "\n",
    "best_pipe = Pipeline([\n",
    "    ('vect', CountVectorizer(\n",
    "            analyzer = 'word',\n",
    "            tokenizer = tokenize,\n",
    "            lowercase = True,\n",
    "            stop_words = spanish_stopwords,\n",
    "            min_df = 10,\n",
    "            max_df = 0.5,\n",
    "            ngram_range=(1, 2),\n",
    "            max_features=1000\n",
    "            )),\n",
    "    ('cls', LinearSVC(C=.2, loss='hinge',max_iter=1000,multi_class='ovr',\n",
    "             random_state=None,\n",
    "             penalty='l2',\n",
    "             tol=0.0001\n",
    "             )),\n",
    "])\n",
    "\n",
    "best_pipe.fit(tweets_corpus.content, tweets_corpus.polarity_bin)\n",
    "best_test = tweets_test\n",
    "best_test['polarity_bin'] = best_pipe.predict(best_test.content)\n",
    "\n"
   ]
  },
  {
   "cell_type": "code",
   "execution_count": 71,
   "metadata": {
    "collapsed": false
   },
   "outputs": [
    {
     "data": {
      "text/plain": [
       "0.80398162327718226"
      ]
     },
     "execution_count": 71,
     "metadata": {},
     "output_type": "execute_result"
    }
   ],
   "source": [
    "y_b = best_test.polarity_bin.values\n",
    "best_result = np.abs(y_b - y)\n",
    "np.bincount(best_result)[0]/float(best_result.shape[0])\n"
   ]
  },
  {
   "cell_type": "code",
   "execution_count": 72,
   "metadata": {
    "collapsed": false
   },
   "outputs": [
    {
     "name": "stderr",
     "output_type": "stream",
     "text": [
      "/usr/local/lib/python2.7/dist-packages/ipykernel/__main__.py:10: UnicodeWarning: Unicode equal comparison failed to convert both arguments to Unicode - interpreting them as being unequal\n"
     ]
    }
   ],
   "source": [
    "pipeline = Pipeline([\n",
    "    ('vect', CountVectorizer(\n",
    "            analyzer = 'word',\n",
    "            tokenizer = tokenize,\n",
    "            lowercase = True,\n",
    "            stop_words = spanish_stopwords,\n",
    "            min_df = 50,\n",
    "            max_df = 1.9,\n",
    "            ngram_range=(1, 1),\n",
    "            max_features=1000\n",
    "            )),\n",
    "    ('cls', LinearSVC(C=.2, loss='squared_hinge',max_iter=1000,multi_class='ovr',\n",
    "             random_state=None,\n",
    "             penalty='l2',\n",
    "             tol=0.0001\n",
    "             )),\n",
    "])\n",
    "\n",
    "pipeline.fit(tweets_corpus.content, tweets_corpus.polarity_bin)\n",
    "tweets_test['polarity_bin'] = pipeline.predict(tweets_test.content)"
   ]
  },
  {
   "cell_type": "code",
   "execution_count": 73,
   "metadata": {
    "collapsed": false
   },
   "outputs": [
    {
     "data": {
      "text/plain": [
       "0.71975497702909652"
      ]
     },
     "execution_count": 73,
     "metadata": {},
     "output_type": "execute_result"
    }
   ],
   "source": [
    "y_t = tweets_test.polarity_bin.values\n",
    "result = np.abs(y_t - y)\n",
    "np.bincount(result)[0]/float(result.shape[0])\n"
   ]
  },
  {
   "cell_type": "code",
   "execution_count": 74,
   "metadata": {
    "collapsed": false
   },
   "outputs": [
    {
     "name": "stderr",
     "output_type": "stream",
     "text": [
      "/usr/local/lib/python2.7/dist-packages/ipykernel/__main__.py:10: UnicodeWarning: Unicode equal comparison failed to convert both arguments to Unicode - interpreting them as being unequal\n"
     ]
    },
    {
     "data": {
      "text/plain": [
       "0.68227481108362864"
      ]
     },
     "execution_count": 74,
     "metadata": {},
     "output_type": "execute_result"
    }
   ],
   "source": [
    "p = pipeline.fit(tweets_corpus.content, tweets_corpus.polarity_bin)\n",
    "\n",
    "scores = cross_val_score(p, tweets_corpus.content, tweets_corpus.polarity_bin, cv=5)\n",
    "\n",
    "np.mean(scores)"
   ]
  },
  {
   "cell_type": "code",
   "execution_count": 38,
   "metadata": {
    "collapsed": false
   },
   "outputs": [
    {
     "name": "stderr",
     "output_type": "stream",
     "text": [
      "/usr/local/lib/python2.7/dist-packages/ipykernel/__main__.py:10: UnicodeWarning: Unicode equal comparison failed to convert both arguments to Unicode - interpreting them as being unequal\n"
     ]
    },
    {
     "data": {
      "text/plain": [
       "0.73773511948822568"
      ]
     },
     "execution_count": 38,
     "metadata": {},
     "output_type": "execute_result"
    }
   ],
   "source": [
    "best_scores = cross_val_score(best_pipe, tweets_corpus.content, tweets_corpus.polarity_bin, cv=5)\n",
    "\n",
    "np.mean(best_scores)"
   ]
  },
  {
   "cell_type": "code",
   "execution_count": 19,
   "metadata": {
    "collapsed": false
   },
   "outputs": [],
   "source": [
    "try:\n",
    "    re_test = pd.read_csv('datasets/csv/MiniREa.csv', encoding='utf-8')\n",
    "except:\n",
    "    xml = objectify.parse(open('datasets/xml/MiniRE.xml'))\n",
    "    #sample tweet object\n",
    "    root = xml.getroot()\n",
    "    re_test = pd.DataFrame(columns=('content', 'polarity'))\n",
    "    tweets = root.getchildren()\n",
    "    for i in range(0,len(tweets)):\n",
    "        tweet = tweets[i]\n",
    "        row = dict(zip(['content'], [tweet.content.text]))\n",
    "        row_s = pd.Series(row)\n",
    "        if row_s[0] != None:\n",
    "            row_s.name = i\n",
    "            re_test = re_test.append(row_s)\n",
    "    re_test.to_csv('datasets/csv/MiniRE.csv', index=False, encoding='utf-8')"
   ]
  },
  {
   "cell_type": "code",
   "execution_count": 23,
   "metadata": {
    "collapsed": false
   },
   "outputs": [
    {
     "data": {
      "text/plain": [
       "(118, 2)"
      ]
     },
     "execution_count": 23,
     "metadata": {},
     "output_type": "execute_result"
    }
   ],
   "source": [
    "re_test.shape"
   ]
  },
  {
   "cell_type": "code",
   "execution_count": 21,
   "metadata": {
    "collapsed": false
   },
   "outputs": [
    {
     "name": "stderr",
     "output_type": "stream",
     "text": [
      "/usr/local/lib/python2.7/dist-packages/ipykernel/__main__.py:10: UnicodeWarning: Unicode equal comparison failed to convert both arguments to Unicode - interpreting them as being unequal\n"
     ]
    }
   ],
   "source": [
    "re_test['polarity'] = best_pipe.predict(re_test.content)"
   ]
  },
  {
   "cell_type": "code",
   "execution_count": 22,
   "metadata": {
    "collapsed": false
   },
   "outputs": [
    {
     "data": {
      "text/html": [
       "<div>\n",
       "<table border=\"1\" class=\"dataframe\">\n",
       "  <thead>\n",
       "    <tr style=\"text-align: right;\">\n",
       "      <th></th>\n",
       "      <th>content</th>\n",
       "      <th>polarity</th>\n",
       "    </tr>\n",
       "  </thead>\n",
       "  <tbody>\n",
       "    <tr>\n",
       "      <th>0</th>\n",
       "      <td>La entrega de los materiales escolares es conforme al uso y aplicación en el Calendario Escolar #EducaciónGratuita https://t.co/N6lTdHszh3</td>\n",
       "      <td>1</td>\n",
       "    </tr>\n",
       "    <tr>\n",
       "      <th>1</th>\n",
       "      <td>#UdEsHueónOCreeQue #Chile tendrá #EducaciónGratuita y de calidad ...? https://t.co/AElOG4Wtcw</td>\n",
       "      <td>1</td>\n",
       "    </tr>\n",
       "    <tr>\n",
       "      <th>2</th>\n",
       "      <td>comenzó la #InterpelaShow, si a @MarceSabat le interesara los niños del sename no se opondrían a la #EducacionGratuita</td>\n",
       "      <td>1</td>\n",
       "    </tr>\n",
       "    <tr>\n",
       "      <th>3</th>\n",
       "      <td>Nicolás Franz, Dir Unap #Antofagasta y Juan Carlos Llancan, nos entregan propuesta U Regionales #ReformaEducacional https://t.co/9ls8XhMoA9</td>\n",
       "      <td>1</td>\n",
       "    </tr>\n",
       "    <tr>\n",
       "      <th>4</th>\n",
       "      <td>Hoy junto a @Cami_RojasV pedimos permiso en Intendencia para #LaMarchaDeLosEndeudados. #FinAlCAE #Condonación RT!! https://t.co/xfh3kCs7TN</td>\n",
       "      <td>1</td>\n",
       "    </tr>\n",
       "    <tr>\n",
       "      <th>5</th>\n",
       "      <td>Existe una deuda histórica con el sector técnico-profesional que la #ReformaEducacional debe subsanar.</td>\n",
       "      <td>0</td>\n",
       "    </tr>\n",
       "    <tr>\n",
       "      <th>6</th>\n",
       "      <td>Nicolás Franz, Dir Unap #Antofagasta y Juan Carlos Llancan, nos entregan propuesta U Regionales #ReformaEducacional https://t.co/9ls8XhMoA9</td>\n",
       "      <td>1</td>\n",
       "    </tr>\n",
       "    <tr>\n",
       "      <th>7</th>\n",
       "      <td>Min Educación pidió la renuncia a rectora Roxana Pey.....por decir la verdad al criticar la #ReformaEducacional . Asi es la democracia ¡puh!</td>\n",
       "      <td>0</td>\n",
       "    </tr>\n",
       "    <tr>\n",
       "      <th>8</th>\n",
       "      <td>Nacionalización del cobre para la educación gratuita. #EducaciónGratuita #Estudiantes  https://t.co/RUPKC9LHFT https://t.co/IgkDu4u01b</td>\n",
       "      <td>1</td>\n",
       "    </tr>\n",
       "    <tr>\n",
       "      <th>9</th>\n",
       "      <td>Las críticas al proyecto de #ReformaEducacional le cuestan el puesto a Roxana Pey... https://t.co/EhY9tfjX1H by @etoledog via #c0nvey</td>\n",
       "      <td>0</td>\n",
       "    </tr>\n",
       "    <tr>\n",
       "      <th>10</th>\n",
       "      <td>Excelente campaña #FINalCAE https://t.co/ENgBHEt1qy via @YouTube</td>\n",
       "      <td>1</td>\n",
       "    </tr>\n",
       "    <tr>\n",
       "      <th>11</th>\n",
       "      <td>Condiciones socioeconómicas de los estudiantes no deben ser obstáculo para recibir #EducaciónGratuita https://t.co/UyZPSeHo8T</td>\n",
       "      <td>1</td>\n",
       "    </tr>\n",
       "    <tr>\n",
       "      <th>13</th>\n",
       "      <td>Escuelas y liceos oficiales no pueden solicitar textos distintos a la Colección Bicentenario #EducaciónGratuita https://t.co/K3xUzmX4Yo</td>\n",
       "      <td>0</td>\n",
       "    </tr>\n",
       "    <tr>\n",
       "      <th>14</th>\n",
       "      <td>Regulaciones del proyecto de #ReformaEducacional, en la práctica, amenazan el futuro de la educación técnica.</td>\n",
       "      <td>1</td>\n",
       "    </tr>\n",
       "    <tr>\n",
       "      <th>15</th>\n",
       "      <td>Escuelas oficiales deben fomentar el uso de materiales reciclados en actividades pedagógicas #EducaciónGratuita https://t.co/RzsNxM8fLi</td>\n",
       "      <td>0</td>\n",
       "    </tr>\n",
       "    <tr>\n",
       "      <th>16</th>\n",
       "      <td>Regularización de útiles escolares en planteles oficiales fortalece el derecho a la #EducaciónGratuita https://t.co/8ofDLL7mOy</td>\n",
       "      <td>0</td>\n",
       "    </tr>\n",
       "    <tr>\n",
       "      <th>17</th>\n",
       "      <td>Gonzalo Vargas, presidente de @VertebralChile: \"El mundo técnico se ve muy disminuido en proyecto de #ReformaEducacional</td>\n",
       "      <td>1</td>\n",
       "    </tr>\n",
       "    <tr>\n",
       "      <th>18</th>\n",
       "      <td>entonces los hijos de los hijos de los hijos de mis hijos tendrán #EducaciónGratuita ??  así con el 20% de \"creyentes\"... en reírme... #MHCC</td>\n",
       "      <td>0</td>\n",
       "    </tr>\n",
       "    <tr>\n",
       "      <th>19</th>\n",
       "      <td>@elnortelocal  increíble que la mayoría no éste de acuerdo. ¿Ignorancia o Valemadrismo en N.L. o ambos? #MaestrosNL #ReformaEducacional</td>\n",
       "      <td>1</td>\n",
       "    </tr>\n",
       "    <tr>\n",
       "      <th>20</th>\n",
       "      <td>Regulaciones del proyecto de #ReformaEducacional, en la práctica, amenazan el futuro de la educación técnica.</td>\n",
       "      <td>1</td>\n",
       "    </tr>\n",
       "    <tr>\n",
       "      <th>21</th>\n",
       "      <td>Condiciones socioeconómicas de los estudiantes no deben ser obstáculo para recibir #EducaciónGratuita https://t.co/ol5a8cSbVG</td>\n",
       "      <td>1</td>\n",
       "    </tr>\n",
       "    <tr>\n",
       "      <th>22</th>\n",
       "      <td>Estamos en @PreludioRadio de #SanFelipe conversamos de #EducaciónPública y #ReformaEducacional. @Mineduc</td>\n",
       "      <td>1</td>\n",
       "    </tr>\n",
       "    <tr>\n",
       "      <th>23</th>\n",
       "      <td>Centros educativos oficiales no podrán solicitar aportes en dinero para inscripciones 2016-2017 #EducaciónGratuita https://t.co/7G66yFs343</td>\n",
       "      <td>0</td>\n",
       "    </tr>\n",
       "    <tr>\n",
       "      <th>24</th>\n",
       "      <td>Introducción al #PatrimonioCultural ::: (curso gratuito) ::: https://t.co/YgYEWJ1IWR ::: #EducacionGratuita #EducacionDigital #edtech :::..</td>\n",
       "      <td>1</td>\n",
       "    </tr>\n",
       "    <tr>\n",
       "      <th>25</th>\n",
       "      <td>Con la #ReformaEducacional, 80 programas de doctorado deberían cumplir con la obligación de acreditarse https://t.co/ZzjJWAcDgN</td>\n",
       "      <td>0</td>\n",
       "    </tr>\n",
       "    <tr>\n",
       "      <th>26</th>\n",
       "      <td>En #otrasvoceseneducacion apoyamos a los estudiantes y la #educaciongratuita @MariaSarraute @ililopriore @MARIANICER https://t.co/dzsRzhjVSg</td>\n",
       "      <td>1</td>\n",
       "    </tr>\n",
       "    <tr>\n",
       "      <th>27</th>\n",
       "      <td>#ReformaEducacional ¿Qué dice el proyecto enviado al Congreso? Los Padres también nos informamos y opinamos, súmate https://t.co/gtIoQucXlL</td>\n",
       "      <td>1</td>\n",
       "    </tr>\n",
       "    <tr>\n",
       "      <th>28</th>\n",
       "      <td>Escuelas y liceos oficiales no pueden solicitar textos distintos a la Colección Bicentenario #EducaciónGratuita https://t.co/ikxhlnF60s</td>\n",
       "      <td>0</td>\n",
       "    </tr>\n",
       "    <tr>\n",
       "      <th>29</th>\n",
       "      <td>Así es, por eso súmate a la campaña #FINalCAE que impulsa @U_Academia https://t.co/b95R18LqGB</td>\n",
       "      <td>1</td>\n",
       "    </tr>\n",
       "    <tr>\n",
       "      <th>30</th>\n",
       "      <td>Continuamos en Cesfam #RíoBueno difundiendo #ReformaEducacional y #ProcesoConstituyente #UnaConstituciónParaChile https://t.co/2JIFVClK7k</td>\n",
       "      <td>0</td>\n",
       "    </tr>\n",
       "    <tr>\n",
       "      <th>...</th>\n",
       "      <td>...</td>\n",
       "      <td>...</td>\n",
       "    </tr>\n",
       "    <tr>\n",
       "      <th>90</th>\n",
       "      <td>Lindo problema tendrá el próximo presidente , ojalá sea alguien visionario y que no se convierta #NOMasAFPs = #EducacionGratuita</td>\n",
       "      <td>0</td>\n",
       "    </tr>\n",
       "    <tr>\n",
       "      <th>91</th>\n",
       "      <td>Materiales y textos escolares no deben ser exigidos en planteles oficiales de todo el país #EducaciónGratuita</td>\n",
       "      <td>0</td>\n",
       "    </tr>\n",
       "    <tr>\n",
       "      <th>92</th>\n",
       "      <td>Materiales y textos escolares no deben ser exigidos en planteles oficiales de todo el país #EducaciónGratuita https://t.co/d2Hvl0IjEo</td>\n",
       "      <td>0</td>\n",
       "    </tr>\n",
       "    <tr>\n",
       "      <th>93</th>\n",
       "      <td>\"Min #educación me dijo que estaba des alineada con el gobierno\" \"Está en juego la autonomía universitaria\" #RoxanaPey #ReformaEducacional</td>\n",
       "      <td>0</td>\n",
       "    </tr>\n",
       "    <tr>\n",
       "      <th>94</th>\n",
       "      <td>La entrega de los materiales escolares es conforme al uso y aplicación en el Calendario Escolar #EducaciónGratuita https://t.co/XVXnOZIieW</td>\n",
       "      <td>1</td>\n",
       "    </tr>\n",
       "    <tr>\n",
       "      <th>95</th>\n",
       "      <td>Lista de útiles escolares no es un requisito primordial, garantizando inclusión de niños y niñas #EducaciónGratuita https://t.co/BXMgjObL4T</td>\n",
       "      <td>0</td>\n",
       "    </tr>\n",
       "    <tr>\n",
       "      <th>96</th>\n",
       "      <td>Punto para la #ReformaEducacional Ues deberán contar con autorización para poder impartir Medicina y Pedagogía https://t.co/TB2mIyMURe</td>\n",
       "      <td>1</td>\n",
       "    </tr>\n",
       "    <tr>\n",
       "      <th>97</th>\n",
       "      <td>.@MPPEDUCACION regula solicitud de materiales y textos escolares en el nivel de Educación Básica #EducaciónGratuita</td>\n",
       "      <td>1</td>\n",
       "    </tr>\n",
       "    <tr>\n",
       "      <th>98</th>\n",
       "      <td>#NoHayPlata #EducacionGratuita #Codelco #NOMasAFP, los felicito lo han hecho muy bien !!! #DesConcertacion #NuevaPilleria @GobiernodeChile</td>\n",
       "      <td>1</td>\n",
       "    </tr>\n",
       "    <tr>\n",
       "      <th>99</th>\n",
       "      <td>Promovamos la reutilización de los textos de la #ColecciónBicentenario en escuelas oficiales #EducaciónGratuita https://t.co/7pzHNkz2mE</td>\n",
       "      <td>0</td>\n",
       "    </tr>\n",
       "    <tr>\n",
       "      <th>100</th>\n",
       "      <td>Promovamos la reutilización de los textos de la #ColecciónBicentenario en escuelas oficiales #EducaciónGratuita</td>\n",
       "      <td>0</td>\n",
       "    </tr>\n",
       "    <tr>\n",
       "      <th>101</th>\n",
       "      <td>#NoticiaMPPE Gobierno Bolivariano garantiza al pueblo de Venezuela la #EducaciónGratuita https://t.co/5vKIzUxxBX https://t.co/d2JQnkJpvd</td>\n",
       "      <td>0</td>\n",
       "    </tr>\n",
       "    <tr>\n",
       "      <th>102</th>\n",
       "      <td>No te pierdas la nota de nuestro periodista @charliecorrea, que hablará sobre el gran conflicto que hay en Chile sobre la #educaciongratuita</td>\n",
       "      <td>0</td>\n",
       "    </tr>\n",
       "    <tr>\n",
       "      <th>103</th>\n",
       "      <td>#NoticiaMPPE Gobierno Bolivariano garantiza al pueblo de Venezuela la #EducaciónGratuita https://t.co/5vKIzUxxBX https://t.co/Lp4DxA0GCn</td>\n",
       "      <td>0</td>\n",
       "    </tr>\n",
       "    <tr>\n",
       "      <th>104</th>\n",
       "      <td>Promovamos la reutilización de los textos de la #ColecciónBicentenario en escuelas oficiales #EducaciónGratuita</td>\n",
       "      <td>0</td>\n",
       "    </tr>\n",
       "    <tr>\n",
       "      <th>105</th>\n",
       "      <td>Por favor escuchen a este experto @Mineduc @presidencia_cl #ReformaEducacional #SirKenRobinson https://t.co/3qPJR92mIj</td>\n",
       "      <td>1</td>\n",
       "    </tr>\n",
       "    <tr>\n",
       "      <th>106</th>\n",
       "      <td>Promovamos la reutilización de los textos de la #ColecciónBicentenario en escuelas oficiales #EducaciónGratuita</td>\n",
       "      <td>0</td>\n",
       "    </tr>\n",
       "    <tr>\n",
       "      <th>107</th>\n",
       "      <td>Promovamos la reutilización de los textos de la #ColecciónBicentenario en escuelas oficiales #EducaciónGratuita</td>\n",
       "      <td>0</td>\n",
       "    </tr>\n",
       "    <tr>\n",
       "      <th>108</th>\n",
       "      <td>The latest The Jaime Daily! https://t.co/lFO7xFB4Wy Thanks to @Alt_Bristol_ #finalcae #despenalizarabortoec</td>\n",
       "      <td>1</td>\n",
       "    </tr>\n",
       "    <tr>\n",
       "      <th>109</th>\n",
       "      <td>@solefalabella a las 11 te necesitamos! Gracias x compartir!!  #FINalCAE</td>\n",
       "      <td>1</td>\n",
       "    </tr>\n",
       "    <tr>\n",
       "      <th>110</th>\n",
       "      <td>Regularización de útiles escolares en planteles oficiales fortalece el derecho a la #EducaciónGratuita</td>\n",
       "      <td>0</td>\n",
       "    </tr>\n",
       "    <tr>\n",
       "      <th>111</th>\n",
       "      <td>#ReformaEducacional  para la #Competitividad de #Chile. Subse Economía Natalia Piergentili en @radiobiobio TV https://t.co/Bs9gReWWj1</td>\n",
       "      <td>1</td>\n",
       "    </tr>\n",
       "    <tr>\n",
       "      <th>112</th>\n",
       "      <td>Regularización de útiles escolares en planteles oficiales fortalece el derecho a la #EducaciónGratuita</td>\n",
       "      <td>0</td>\n",
       "    </tr>\n",
       "    <tr>\n",
       "      <th>113</th>\n",
       "      <td>Trailer Documental Ya No Basta con Marchar https://t.co/qdkOJZ0le7  vía @YouTube #yanobastaconmarchar #marchaestudiantil #educaciongratuita</td>\n",
       "      <td>1</td>\n",
       "    </tr>\n",
       "    <tr>\n",
       "      <th>114</th>\n",
       "      <td>#ReformaEducacional #EducacionGratuita --&amp;gt; como lo hacen ? https://t.co/1OHBsq32nt</td>\n",
       "      <td>1</td>\n",
       "    </tr>\n",
       "    <tr>\n",
       "      <th>115</th>\n",
       "      <td>¡Vamos por la gratuidad! #educaciónGratuita #Vamoschile https://t.co/DVCpHq2jN5</td>\n",
       "      <td>1</td>\n",
       "    </tr>\n",
       "    <tr>\n",
       "      <th>116</th>\n",
       "      <td>Sobre #ReformaEducacional quisiera saber: Modelo de referencia a seguir, el AS/IS, el TO/BE y el GAP Análisis #Chile</td>\n",
       "      <td>1</td>\n",
       "    </tr>\n",
       "    <tr>\n",
       "      <th>117</th>\n",
       "      <td>#ReformaEducacional: Diversidad, autonomía y calidad; lo que se pierde con el proyecto de educación superior https://t.co/TvQQze8pz0</td>\n",
       "      <td>1</td>\n",
       "    </tr>\n",
       "    <tr>\n",
       "      <th>118</th>\n",
       "      <td>Regularización de útiles escolares en planteles oficiales fortalece el derecho a la #EducaciónGratuita</td>\n",
       "      <td>0</td>\n",
       "    </tr>\n",
       "    <tr>\n",
       "      <th>119</th>\n",
       "      <td>Regularización de útiles escolares en planteles oficiales fortalece el derecho a la #EducaciónGratuita https://t.co/9RMuLLs81z</td>\n",
       "      <td>0</td>\n",
       "    </tr>\n",
       "  </tbody>\n",
       "</table>\n",
       "<p>118 rows × 2 columns</p>\n",
       "</div>"
      ],
      "text/plain": [
       "                                                                                                                                          content  \\\n",
       "0      La entrega de los materiales escolares es conforme al uso y aplicación en el Calendario Escolar #EducaciónGratuita https://t.co/N6lTdHszh3   \n",
       "1                                                   #UdEsHueónOCreeQue #Chile tendrá #EducaciónGratuita y de calidad ...? https://t.co/AElOG4Wtcw   \n",
       "2                          comenzó la #InterpelaShow, si a @MarceSabat le interesara los niños del sename no se opondrían a la #EducacionGratuita   \n",
       "3     Nicolás Franz, Dir Unap #Antofagasta y Juan Carlos Llancan, nos entregan propuesta U Regionales #ReformaEducacional https://t.co/9ls8XhMoA9   \n",
       "4      Hoy junto a @Cami_RojasV pedimos permiso en Intendencia para #LaMarchaDeLosEndeudados. #FinAlCAE #Condonación RT!! https://t.co/xfh3kCs7TN   \n",
       "5                                          Existe una deuda histórica con el sector técnico-profesional que la #ReformaEducacional debe subsanar.   \n",
       "6     Nicolás Franz, Dir Unap #Antofagasta y Juan Carlos Llancan, nos entregan propuesta U Regionales #ReformaEducacional https://t.co/9ls8XhMoA9   \n",
       "7    Min Educación pidió la renuncia a rectora Roxana Pey.....por decir la verdad al criticar la #ReformaEducacional . Asi es la democracia ¡puh!   \n",
       "8          Nacionalización del cobre para la educación gratuita. #EducaciónGratuita #Estudiantes  https://t.co/RUPKC9LHFT https://t.co/IgkDu4u01b   \n",
       "9           Las críticas al proyecto de #ReformaEducacional le cuestan el puesto a Roxana Pey... https://t.co/EhY9tfjX1H by @etoledog via #c0nvey   \n",
       "10                                                                               Excelente campaña #FINalCAE https://t.co/ENgBHEt1qy via @YouTube   \n",
       "11                  Condiciones socioeconómicas de los estudiantes no deben ser obstáculo para recibir #EducaciónGratuita https://t.co/UyZPSeHo8T   \n",
       "13        Escuelas y liceos oficiales no pueden solicitar textos distintos a la Colección Bicentenario #EducaciónGratuita https://t.co/K3xUzmX4Yo   \n",
       "14                                  Regulaciones del proyecto de #ReformaEducacional, en la práctica, amenazan el futuro de la educación técnica.   \n",
       "15        Escuelas oficiales deben fomentar el uso de materiales reciclados en actividades pedagógicas #EducaciónGratuita https://t.co/RzsNxM8fLi   \n",
       "16                 Regularización de útiles escolares en planteles oficiales fortalece el derecho a la #EducaciónGratuita https://t.co/8ofDLL7mOy   \n",
       "17                       Gonzalo Vargas, presidente de @VertebralChile: \"El mundo técnico se ve muy disminuido en proyecto de #ReformaEducacional   \n",
       "18   entonces los hijos de los hijos de los hijos de mis hijos tendrán #EducaciónGratuita ??  así con el 20% de \"creyentes\"... en reírme... #MHCC   \n",
       "19        @elnortelocal  increíble que la mayoría no éste de acuerdo. ¿Ignorancia o Valemadrismo en N.L. o ambos? #MaestrosNL #ReformaEducacional   \n",
       "20                                  Regulaciones del proyecto de #ReformaEducacional, en la práctica, amenazan el futuro de la educación técnica.   \n",
       "21                  Condiciones socioeconómicas de los estudiantes no deben ser obstáculo para recibir #EducaciónGratuita https://t.co/ol5a8cSbVG   \n",
       "22                                       Estamos en @PreludioRadio de #SanFelipe conversamos de #EducaciónPública y #ReformaEducacional. @Mineduc   \n",
       "23     Centros educativos oficiales no podrán solicitar aportes en dinero para inscripciones 2016-2017 #EducaciónGratuita https://t.co/7G66yFs343   \n",
       "24    Introducción al #PatrimonioCultural ::: (curso gratuito) ::: https://t.co/YgYEWJ1IWR ::: #EducacionGratuita #EducacionDigital #edtech :::..   \n",
       "25                Con la #ReformaEducacional, 80 programas de doctorado deberían cumplir con la obligación de acreditarse https://t.co/ZzjJWAcDgN   \n",
       "26   En #otrasvoceseneducacion apoyamos a los estudiantes y la #educaciongratuita @MariaSarraute @ililopriore @MARIANICER https://t.co/dzsRzhjVSg   \n",
       "27    #ReformaEducacional ¿Qué dice el proyecto enviado al Congreso? Los Padres también nos informamos y opinamos, súmate https://t.co/gtIoQucXlL   \n",
       "28        Escuelas y liceos oficiales no pueden solicitar textos distintos a la Colección Bicentenario #EducaciónGratuita https://t.co/ikxhlnF60s   \n",
       "29                                                  Así es, por eso súmate a la campaña #FINalCAE que impulsa @U_Academia https://t.co/b95R18LqGB   \n",
       "30      Continuamos en Cesfam #RíoBueno difundiendo #ReformaEducacional y #ProcesoConstituyente #UnaConstituciónParaChile https://t.co/2JIFVClK7k   \n",
       "..                                                                                                                                            ...   \n",
       "90               Lindo problema tendrá el próximo presidente , ojalá sea alguien visionario y que no se convierta #NOMasAFPs = #EducacionGratuita   \n",
       "91                                  Materiales y textos escolares no deben ser exigidos en planteles oficiales de todo el país #EducaciónGratuita   \n",
       "92          Materiales y textos escolares no deben ser exigidos en planteles oficiales de todo el país #EducaciónGratuita https://t.co/d2Hvl0IjEo   \n",
       "93     \"Min #educación me dijo que estaba des alineada con el gobierno\" \"Está en juego la autonomía universitaria\" #RoxanaPey #ReformaEducacional   \n",
       "94     La entrega de los materiales escolares es conforme al uso y aplicación en el Calendario Escolar #EducaciónGratuita https://t.co/XVXnOZIieW   \n",
       "95    Lista de útiles escolares no es un requisito primordial, garantizando inclusión de niños y niñas #EducaciónGratuita https://t.co/BXMgjObL4T   \n",
       "96         Punto para la #ReformaEducacional Ues deberán contar con autorización para poder impartir Medicina y Pedagogía https://t.co/TB2mIyMURe   \n",
       "97                            .@MPPEDUCACION regula solicitud de materiales y textos escolares en el nivel de Educación Básica #EducaciónGratuita   \n",
       "98     #NoHayPlata #EducacionGratuita #Codelco #NOMasAFP, los felicito lo han hecho muy bien !!! #DesConcertacion #NuevaPilleria @GobiernodeChile   \n",
       "99        Promovamos la reutilización de los textos de la #ColecciónBicentenario en escuelas oficiales #EducaciónGratuita https://t.co/7pzHNkz2mE   \n",
       "100                               Promovamos la reutilización de los textos de la #ColecciónBicentenario en escuelas oficiales #EducaciónGratuita   \n",
       "101      #NoticiaMPPE Gobierno Bolivariano garantiza al pueblo de Venezuela la #EducaciónGratuita https://t.co/5vKIzUxxBX https://t.co/d2JQnkJpvd   \n",
       "102  No te pierdas la nota de nuestro periodista @charliecorrea, que hablará sobre el gran conflicto que hay en Chile sobre la #educaciongratuita   \n",
       "103      #NoticiaMPPE Gobierno Bolivariano garantiza al pueblo de Venezuela la #EducaciónGratuita https://t.co/5vKIzUxxBX https://t.co/Lp4DxA0GCn   \n",
       "104                               Promovamos la reutilización de los textos de la #ColecciónBicentenario en escuelas oficiales #EducaciónGratuita   \n",
       "105                        Por favor escuchen a este experto @Mineduc @presidencia_cl #ReformaEducacional #SirKenRobinson https://t.co/3qPJR92mIj   \n",
       "106                               Promovamos la reutilización de los textos de la #ColecciónBicentenario en escuelas oficiales #EducaciónGratuita   \n",
       "107                               Promovamos la reutilización de los textos de la #ColecciónBicentenario en escuelas oficiales #EducaciónGratuita   \n",
       "108                                   The latest The Jaime Daily! https://t.co/lFO7xFB4Wy Thanks to @Alt_Bristol_ #finalcae #despenalizarabortoec   \n",
       "109                                                                      @solefalabella a las 11 te necesitamos! Gracias x compartir!!  #FINalCAE   \n",
       "110                                        Regularización de útiles escolares en planteles oficiales fortalece el derecho a la #EducaciónGratuita   \n",
       "111         #ReformaEducacional  para la #Competitividad de #Chile. Subse Economía Natalia Piergentili en @radiobiobio TV https://t.co/Bs9gReWWj1   \n",
       "112                                        Regularización de útiles escolares en planteles oficiales fortalece el derecho a la #EducaciónGratuita   \n",
       "113   Trailer Documental Ya No Basta con Marchar https://t.co/qdkOJZ0le7  vía @YouTube #yanobastaconmarchar #marchaestudiantil #educaciongratuita   \n",
       "114                                                         #ReformaEducacional #EducacionGratuita --&gt; como lo hacen ? https://t.co/1OHBsq32nt   \n",
       "115                                                               ¡Vamos por la gratuidad! #educaciónGratuita #Vamoschile https://t.co/DVCpHq2jN5   \n",
       "116                          Sobre #ReformaEducacional quisiera saber: Modelo de referencia a seguir, el AS/IS, el TO/BE y el GAP Análisis #Chile   \n",
       "117          #ReformaEducacional: Diversidad, autonomía y calidad; lo que se pierde con el proyecto de educación superior https://t.co/TvQQze8pz0   \n",
       "118                                        Regularización de útiles escolares en planteles oficiales fortalece el derecho a la #EducaciónGratuita   \n",
       "119                Regularización de útiles escolares en planteles oficiales fortalece el derecho a la #EducaciónGratuita https://t.co/9RMuLLs81z   \n",
       "\n",
       "     polarity  \n",
       "0           1  \n",
       "1           1  \n",
       "2           1  \n",
       "3           1  \n",
       "4           1  \n",
       "5           0  \n",
       "6           1  \n",
       "7           0  \n",
       "8           1  \n",
       "9           0  \n",
       "10          1  \n",
       "11          1  \n",
       "13          0  \n",
       "14          1  \n",
       "15          0  \n",
       "16          0  \n",
       "17          1  \n",
       "18          0  \n",
       "19          1  \n",
       "20          1  \n",
       "21          1  \n",
       "22          1  \n",
       "23          0  \n",
       "24          1  \n",
       "25          0  \n",
       "26          1  \n",
       "27          1  \n",
       "28          0  \n",
       "29          1  \n",
       "30          0  \n",
       "..        ...  \n",
       "90          0  \n",
       "91          0  \n",
       "92          0  \n",
       "93          0  \n",
       "94          1  \n",
       "95          0  \n",
       "96          1  \n",
       "97          1  \n",
       "98          1  \n",
       "99          0  \n",
       "100         0  \n",
       "101         0  \n",
       "102         0  \n",
       "103         0  \n",
       "104         0  \n",
       "105         1  \n",
       "106         0  \n",
       "107         0  \n",
       "108         1  \n",
       "109         1  \n",
       "110         0  \n",
       "111         1  \n",
       "112         0  \n",
       "113         1  \n",
       "114         1  \n",
       "115         1  \n",
       "116         1  \n",
       "117         1  \n",
       "118         0  \n",
       "119         0  \n",
       "\n",
       "[118 rows x 2 columns]"
      ]
     },
     "execution_count": 22,
     "metadata": {},
     "output_type": "execute_result"
    }
   ],
   "source": [
    "re_test"
   ]
  },
  {
   "cell_type": "code",
   "execution_count": null,
   "metadata": {
    "collapsed": true
   },
   "outputs": [],
   "source": []
  }
 ],
 "metadata": {
  "kernelspec": {
   "display_name": "Python 2",
   "language": "python",
   "name": "python2"
  },
  "language_info": {
   "codemirror_mode": {
    "name": "ipython",
    "version": 2
   },
   "file_extension": ".py",
   "mimetype": "text/x-python",
   "name": "python",
   "nbconvert_exporter": "python",
   "pygments_lexer": "ipython2",
   "version": "2.7.12"
  }
 },
 "nbformat": 4,
 "nbformat_minor": 0
}

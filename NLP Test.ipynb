{
 "cells": [
  {
   "cell_type": "code",
   "execution_count": 238,
   "metadata": {
    "collapsed": false
   },
   "outputs": [],
   "source": [
    "import json\n",
    "import unicodedata\n",
    "import re\n",
    "import pandas as pd\n",
    "pd.set_option('max_colwidth',1000)\n",
    "from lxml import objectify\n",
    "import numpy as np\n",
    "\n",
    "\n",
    "\n",
    "from string import punctuation\n",
    "import nltk\n",
    "from nltk.corpus import stopwords\n",
    "from nltk import word_tokenize\n",
    "from nltk.data import load\n",
    "from nltk.stem import SnowballStemmer\n",
    "\n",
    "from string import punctuation\n",
    "\n",
    "from sklearn.grid_search import GridSearchCV\n",
    "from sklearn.cross_validation import cross_val_score\n",
    "from sklearn.svm import LinearSVC\n",
    "from sklearn.pipeline import Pipeline\n",
    "from sklearn.feature_extraction.text import CountVectorizer      \n",
    "\n",
    "\n",
    "#Required packages from nltk\n",
    "#nltk.download('punkt')\n",
    "#nltk.download('stopwords')"
   ]
  },
  {
   "cell_type": "markdown",
   "metadata": {},
   "source": [
    "## Load CSV file or create from XML"
   ]
  },
  {
   "cell_type": "code",
   "execution_count": 230,
   "metadata": {
    "collapsed": false
   },
   "outputs": [],
   "source": [
    "try:\n",
    "    general_tweets_corpus_train = pd.read_csv('datasets/csv/general-tweets-train-tagged.csv', encoding='utf-8')\n",
    "except:\n",
    "    xml = objectify.parse(open('datasets/xml/general-tweets-train-tagged.xml'))\n",
    "    #sample tweet object\n",
    "    root = xml.getroot()\n",
    "    general_tweets_corpus_train = pd.DataFrame(columns=('content', 'polarity', 'agreement'))\n",
    "    tweets = root.getchildren()\n",
    "    for i in range(0,len(tweets)):\n",
    "        tweet = tweets[i]\n",
    "        row = dict(zip(['content', 'polarity', 'agreement'], \n",
    "                       [tweet.content.text, tweet.sentiments.polarity.value.text, \n",
    "                        tweet.sentiments.polarity.type.text]))\n",
    "        row_s = pd.Series(row)\n",
    "        row_s.name = i\n",
    "        general_tweets_corpus_train = general_tweets_corpus_train.append(row_s)\n",
    "    general_tweets_corpus_train.to_csv('datasets/csv/general-tweets-train-tagged.csv', index=False, encoding='utf-8')"
   ]
  },
  {
   "cell_type": "code",
   "execution_count": 231,
   "metadata": {
    "collapsed": false
   },
   "outputs": [
    {
     "data": {
      "text/html": [
       "<div>\n",
       "<table border=\"1\" class=\"dataframe\">\n",
       "  <thead>\n",
       "    <tr style=\"text-align: right;\">\n",
       "      <th></th>\n",
       "      <th>content</th>\n",
       "      <th>polarity</th>\n",
       "      <th>agreement</th>\n",
       "    </tr>\n",
       "  </thead>\n",
       "  <tbody>\n",
       "    <tr>\n",
       "      <th>5469</th>\n",
       "      <td>@germanyanke nos vemos en Bucarest en la final? Hacemos la tertulia de RNE desde allí ?</td>\n",
       "      <td>P</td>\n",
       "      <td>AGREEMENT</td>\n",
       "    </tr>\n",
       "    <tr>\n",
       "      <th>5143</th>\n",
       "      <td>Tu mas ;-)) RT @FdoFrances: @PepeDamianRS @mariviromero @naranjoisabel #FF os tenéis el cielo ganado por ser tan buenos</td>\n",
       "      <td>P+</td>\n",
       "      <td>AGREEMENT</td>\n",
       "    </tr>\n",
       "    <tr>\n",
       "      <th>935</th>\n",
       "      <td>\"A veces, cuando las nubes de la pesadumbre ocultan el cielo, parece q somos incapaces de imaginar q puedan desaparecer.Desaparecerán\" Rajoy</td>\n",
       "      <td>N</td>\n",
       "      <td>AGREEMENT</td>\n",
       "    </tr>\n",
       "    <tr>\n",
       "      <th>1296</th>\n",
       "      <td>Antes de hacer #Twitteroff os deseo que paséis una Feliz Nochebuena y una estupenda Navidad. Que seáis felices... Y comáis perdices :-)</td>\n",
       "      <td>P+</td>\n",
       "      <td>AGREEMENT</td>\n",
       "    </tr>\n",
       "    <tr>\n",
       "      <th>2496</th>\n",
       "      <td>La nueva mesa de la comisión de cultura  http://t.co/zmJnSSad</td>\n",
       "      <td>P</td>\n",
       "      <td>AGREEMENT</td>\n",
       "    </tr>\n",
       "    <tr>\n",
       "      <th>1705</th>\n",
       "      <td>Que miedo, cuando se acabe la navidad y tengamos que enfrentarnos a la realidad, no? #porfiquenolleguereyes</td>\n",
       "      <td>N</td>\n",
       "      <td>AGREEMENT</td>\n",
       "    </tr>\n",
       "    <tr>\n",
       "      <th>1925</th>\n",
       "      <td>#Chacón considera q el faisán es un tema fantasma</td>\n",
       "      <td>N</td>\n",
       "      <td>AGREEMENT</td>\n",
       "    </tr>\n",
       "    <tr>\n",
       "      <th>2789</th>\n",
       "      <td>Guindos y Montoro, esa pareja irrepetible. Menos mal que Rajoy preside la Comision delegada de asuntos económicos...</td>\n",
       "      <td>NEU</td>\n",
       "      <td>AGREEMENT</td>\n",
       "    </tr>\n",
       "    <tr>\n",
       "      <th>1982</th>\n",
       "      <td>Un fuerte catarro, empeora la salud de Manuel Fraga, de 89 años. Convalece en su casa de Madrid, acompañado de su familia</td>\n",
       "      <td>N</td>\n",
       "      <td>AGREEMENT</td>\n",
       "    </tr>\n",
       "    <tr>\n",
       "      <th>2648</th>\n",
       "      <td>#FF RT @SantyUrbaneja: @MayteOtero @Andreita_ae @virginiacanadas @Milamorr @melina_cm @encarnialvarez @DoriLuque  me sumo #FF para todas!!!</td>\n",
       "      <td>P</td>\n",
       "      <td>AGREEMENT</td>\n",
       "    </tr>\n",
       "    <tr>\n",
       "      <th>2657</th>\n",
       "      <td>Carlos Fabra acaba de lograr la nueva plusmarca de fianza a político: 4,2 millones. Le quita el récord a Jaume Matas http://t.co/VSGOtwtX</td>\n",
       "      <td>N</td>\n",
       "      <td>AGREEMENT</td>\n",
       "    </tr>\n",
       "    <tr>\n",
       "      <th>891</th>\n",
       "      <td>Tras el numerito del de Amaiur (Sabino y Cuadra se tenía que llamar) sube Rajoy a la tribuna. El que la sigue la consigue.</td>\n",
       "      <td>N</td>\n",
       "      <td>AGREEMENT</td>\n",
       "    </tr>\n",
       "    <tr>\n",
       "      <th>2127</th>\n",
       "      <td>Montoro clama ahora x una política de luces largas...y sigue con el rafa rafa de la pinderacion</td>\n",
       "      <td>N+</td>\n",
       "      <td>AGREEMENT</td>\n",
       "    </tr>\n",
       "    <tr>\n",
       "      <th>5461</th>\n",
       "      <td>Preparado para ver el partidazo entre el Man U y Athletic de Bilbao! Sera bonito seguro.</td>\n",
       "      <td>P+</td>\n",
       "      <td>AGREEMENT</td>\n",
       "    </tr>\n",
       "    <tr>\n",
       "      <th>2779</th>\n",
       "      <td>\"No refundemos la socialdemocracia cuando lo que ha fracasado es el sistema financiero, eso no significa que no tengamos que hacer ajustes\"</td>\n",
       "      <td>N</td>\n",
       "      <td>AGREEMENT</td>\n",
       "    </tr>\n",
       "    <tr>\n",
       "      <th>3109</th>\n",
       "      <td>Muy buenas noches followercetes! http://t.co/qkMEw3WH</td>\n",
       "      <td>P</td>\n",
       "      <td>AGREEMENT</td>\n",
       "    </tr>\n",
       "    <tr>\n",
       "      <th>1224</th>\n",
       "      <td>Y mil #FF más para ella RT @fernandomorales: Mi #FF es único, exclusivo e intransferible para @sanchez_sonia por muchas cosas. #hedicho</td>\n",
       "      <td>P+</td>\n",
       "      <td>AGREEMENT</td>\n",
       "    </tr>\n",
       "    <tr>\n",
       "      <th>693</th>\n",
       "      <td>ya... aun cerrando asuntos de mi padre RT @Milamorr: Se ha notado que faltabas tu hoy en el #fyt06 :( @mariviromero</td>\n",
       "      <td>N</td>\n",
       "      <td>AGREEMENT</td>\n",
       "    </tr>\n",
       "    <tr>\n",
       "      <th>2357</th>\n",
       "      <td>Curiosidad del insomne: ¿Por qué iba a ceder la CEOE ante sindicatos si sabe que el Gobierno hará por decreto lo que la patronal quiere?</td>\n",
       "      <td>N</td>\n",
       "      <td>AGREEMENT</td>\n",
       "    </tr>\n",
       "    <tr>\n",
       "      <th>4697</th>\n",
       "      <td>El Grupo Mixto pide q se repita la votación con Joan Tardà, tb de ERC, como candidato. Petición denegada.</td>\n",
       "      <td>N</td>\n",
       "      <td>AGREEMENT</td>\n",
       "    </tr>\n",
       "  </tbody>\n",
       "</table>\n",
       "</div>"
      ],
      "text/plain": [
       "                                                                                                                                           content  \\\n",
       "5469                                                       @germanyanke nos vemos en Bucarest en la final? Hacemos la tertulia de RNE desde allí ?   \n",
       "5143                       Tu mas ;-)) RT @FdoFrances: @PepeDamianRS @mariviromero @naranjoisabel #FF os tenéis el cielo ganado por ser tan buenos   \n",
       "935   \"A veces, cuando las nubes de la pesadumbre ocultan el cielo, parece q somos incapaces de imaginar q puedan desaparecer.Desaparecerán\" Rajoy   \n",
       "1296       Antes de hacer #Twitteroff os deseo que paséis una Feliz Nochebuena y una estupenda Navidad. Que seáis felices... Y comáis perdices :-)   \n",
       "2496                                                                                 La nueva mesa de la comisión de cultura  http://t.co/zmJnSSad   \n",
       "1705                                   Que miedo, cuando se acabe la navidad y tengamos que enfrentarnos a la realidad, no? #porfiquenolleguereyes   \n",
       "1925                                                                                             #Chacón considera q el faisán es un tema fantasma   \n",
       "2789                          Guindos y Montoro, esa pareja irrepetible. Menos mal que Rajoy preside la Comision delegada de asuntos económicos...   \n",
       "1982                     Un fuerte catarro, empeora la salud de Manuel Fraga, de 89 años. Convalece en su casa de Madrid, acompañado de su familia   \n",
       "2648   #FF RT @SantyUrbaneja: @MayteOtero @Andreita_ae @virginiacanadas @Milamorr @melina_cm @encarnialvarez @DoriLuque  me sumo #FF para todas!!!   \n",
       "2657     Carlos Fabra acaba de lograr la nueva plusmarca de fianza a político: 4,2 millones. Le quita el récord a Jaume Matas http://t.co/VSGOtwtX   \n",
       "891                     Tras el numerito del de Amaiur (Sabino y Cuadra se tenía que llamar) sube Rajoy a la tribuna. El que la sigue la consigue.   \n",
       "2127                                               Montoro clama ahora x una política de luces largas...y sigue con el rafa rafa de la pinderacion   \n",
       "5461                                                      Preparado para ver el partidazo entre el Man U y Athletic de Bilbao! Sera bonito seguro.   \n",
       "2779   \"No refundemos la socialdemocracia cuando lo que ha fracasado es el sistema financiero, eso no significa que no tengamos que hacer ajustes\"   \n",
       "3109                                                                                         Muy buenas noches followercetes! http://t.co/qkMEw3WH   \n",
       "1224       Y mil #FF más para ella RT @fernandomorales: Mi #FF es único, exclusivo e intransferible para @sanchez_sonia por muchas cosas. #hedicho   \n",
       "693                            ya... aun cerrando asuntos de mi padre RT @Milamorr: Se ha notado que faltabas tu hoy en el #fyt06 :( @mariviromero   \n",
       "2357      Curiosidad del insomne: ¿Por qué iba a ceder la CEOE ante sindicatos si sabe que el Gobierno hará por decreto lo que la patronal quiere?   \n",
       "4697                                     El Grupo Mixto pide q se repita la votación con Joan Tardà, tb de ERC, como candidato. Petición denegada.   \n",
       "\n",
       "     polarity  agreement  \n",
       "5469        P  AGREEMENT  \n",
       "5143       P+  AGREEMENT  \n",
       "935         N  AGREEMENT  \n",
       "1296       P+  AGREEMENT  \n",
       "2496        P  AGREEMENT  \n",
       "1705        N  AGREEMENT  \n",
       "1925        N  AGREEMENT  \n",
       "2789      NEU  AGREEMENT  \n",
       "1982        N  AGREEMENT  \n",
       "2648        P  AGREEMENT  \n",
       "2657        N  AGREEMENT  \n",
       "891         N  AGREEMENT  \n",
       "2127       N+  AGREEMENT  \n",
       "5461       P+  AGREEMENT  \n",
       "2779        N  AGREEMENT  \n",
       "3109        P  AGREEMENT  \n",
       "1224       P+  AGREEMENT  \n",
       "693         N  AGREEMENT  \n",
       "2357        N  AGREEMENT  \n",
       "4697        N  AGREEMENT  "
      ]
     },
     "execution_count": 231,
     "metadata": {},
     "output_type": "execute_result"
    }
   ],
   "source": [
    "tweets_corpus = pd.concat([general_tweets_corpus_train])\n",
    "tweets_corpus = tweets_corpus.query('agreement != \"DISAGREEMENT\" and polarity != \"NONE\"')\n",
    "tweets_corpus = tweets_corpus[-tweets_corpus.content.str.contains('^http.*$')]\n",
    "tweets_corpus.sample(20)"
   ]
  },
  {
   "cell_type": "code",
   "execution_count": 232,
   "metadata": {
    "collapsed": false
   },
   "outputs": [],
   "source": [
    "try:\n",
    "    general_tweets_corpus_test = pd.read_csv('datasets/csv/general-tweets-test1k.csv')#, encoding='utf-8')\n",
    "except:\n",
    "    xml = objectify.parse(open('datasets/xml/general-tweets-test1k.xml'))\n",
    "    #sample tweet object\n",
    "    root = xml.getroot()\n",
    "    general_tweets_corpus_test = pd.DataFrame(columns=('content', 'polarity'))\n",
    "    tweets = root.getchildren()\n",
    "    for i in range(0,len(tweets)):\n",
    "        tweet = tweets[i]\n",
    "        row = dict(zip(['content'], [tweet.content.text]))\n",
    "        row_s = pd.Series(row)\n",
    "        row_s.name = i\n",
    "        general_tweets_corpus_test = general_tweets_corpus_test.append(row_s)\n",
    "    general_tweets_corpus_test.to_csv('datasets/csv/general-tweets-test1k.csv', index=False)#, encoding='utf-8')"
   ]
  },
  {
   "cell_type": "markdown",
   "metadata": {},
   "source": [
    "## Tokenize and Stems Sentences "
   ]
  },
  {
   "cell_type": "code",
   "execution_count": 233,
   "metadata": {
    "collapsed": true
   },
   "outputs": [],
   "source": [
    "#Stem: Cut word in root (wait: wait, waited: wait, waiting: wait)\n",
    "def stem_tokens(tokens, stemmer):\n",
    "    stemmed = []\n",
    "    for item in tokens:\n",
    "        stemmed.append(stemmer.stem(item))\n",
    "    return stemmed\n",
    "\n",
    "#Each word is a token\n",
    "def tokenize(text):\n",
    "    text = ''.join([c for c in text if c not in non_words])\n",
    "    tokens =  word_tokenize(text)\n",
    "\n",
    "    # stem\n",
    "    try:\n",
    "        stems = stem_tokens(tokens, stemmer)\n",
    "    except Exception as e:\n",
    "        print(e)\n",
    "        print(text)\n",
    "        stems = ['']\n",
    "    return stems"
   ]
  },
  {
   "cell_type": "code",
   "execution_count": 234,
   "metadata": {
    "collapsed": false
   },
   "outputs": [],
   "source": [
    "#Stopwords: Empty word (i.e articles)\n",
    "\n",
    "spanish_stopwords = stopwords.words('spanish')\n",
    "stemmer = SnowballStemmer('spanish')\n",
    "\n",
    "\n",
    "#Non Words: Symbols and Numbers\n",
    "non_words = list(punctuation)\n",
    "non_words.extend(['¿', '¡'])\n",
    "non_words.extend(map(str,range(10)))\n"
   ]
  },
  {
   "cell_type": "markdown",
   "metadata": {},
   "source": [
    "## Creating Model (Linear SVM) and Training"
   ]
  },
  {
   "cell_type": "code",
   "execution_count": 235,
   "metadata": {
    "collapsed": false
   },
   "outputs": [
    {
     "data": {
      "text/plain": [
       "1    0.53994\n",
       "0    0.46006\n",
       "Name: polarity_bin, dtype: float64"
      ]
     },
     "execution_count": 235,
     "metadata": {},
     "output_type": "execute_result"
    }
   ],
   "source": [
    "#Binarizing\n",
    "\n",
    "tweets_corpus['polarity_bin'] = 0\n",
    "index = tweets_corpus.polarity.isin(['P', 'P+'])\n",
    "tweets_corpus.polarity_bin.loc[index] = 1\n",
    "tweets_corpus.polarity_bin.value_counts(normalize=True)\n",
    "\n"
   ]
  },
  {
   "cell_type": "code",
   "execution_count": null,
   "metadata": {
    "collapsed": false,
    "scrolled": false
   },
   "outputs": [],
   "source": [
    "vectorizer = CountVectorizer(\n",
    "                analyzer = 'word',\n",
    "                tokenizer = tokenize,\n",
    "                lowercase = True,\n",
    "                stop_words = spanish_stopwords)\n",
    "\n",
    "pipeline = Pipeline([\n",
    "    ('vect', vectorizer),\n",
    "    ('cls', LinearSVC()),\n",
    "])\n",
    "\n",
    "\n",
    "\n",
    "parameters = {\n",
    "    'vect__max_df': (0.5, 1.9),\n",
    "    'vect__min_df': (10, 20,50),\n",
    "    'vect__max_features': (500, 1000),\n",
    "    'vect__ngram_range': ((1, 1), (1, 2)),  # unigrams or bigrams\n",
    "    'cls__C': (0.2, 0.5, 0.7),\n",
    "    'cls__loss': ('hinge', 'squared_hinge'),\n",
    "    'cls__max_iter': (500, 1000)\n",
    "}\n",
    "\n",
    "\n",
    "grid_search = GridSearchCV(pipeline, parameters, n_jobs=-1 , scoring='roc_auc')\n",
    "grid_search.fit(tweets_corpus.content, tweets_corpus.polarity_bin)"
   ]
  },
  {
   "cell_type": "code",
   "execution_count": null,
   "metadata": {
    "collapsed": false
   },
   "outputs": [],
   "source": []
  },
  {
   "cell_type": "code",
   "execution_count": null,
   "metadata": {
    "collapsed": true
   },
   "outputs": [],
   "source": []
  },
  {
   "cell_type": "code",
   "execution_count": null,
   "metadata": {
    "collapsed": true
   },
   "outputs": [],
   "source": []
  }
 ],
 "metadata": {
  "kernelspec": {
   "display_name": "Python 2",
   "language": "python",
   "name": "python2"
  },
  "language_info": {
   "codemirror_mode": {
    "name": "ipython",
    "version": 2
   },
   "file_extension": ".py",
   "mimetype": "text/x-python",
   "name": "python",
   "nbconvert_exporter": "python",
   "pygments_lexer": "ipython2",
   "version": "2.7.12"
  }
 },
 "nbformat": 4,
 "nbformat_minor": 0
}
